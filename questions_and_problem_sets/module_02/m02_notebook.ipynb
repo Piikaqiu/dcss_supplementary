{
 "cells": [
  {
   "cell_type": "markdown",
   "metadata": {},
   "source": [
    "<br><br><font color=\"gray\">DOING COMPUTATIONAL SOCIAL SCIENCE<br>MODULE 2 <strong>PROBLEM SETS</strong></font>\n",
    "\n",
    "# <font color=\"#49699E\" size=40>MODULE 2 </font>\n",
    "\n",
    "\n",
    "# What You Need to Know Before Getting Started\n",
    "\n",
    "- **Every notebook assignment has an accompanying quiz**. Your work in each notebook assignment will serve as the basis for your quiz answers.\n",
    "- **You can consult any resources you want when completing these exercises and problems**. Just as it is in the \"real world:\" if you can't figure out how to do something, look it up. My recommendation is that you check the relevant parts of the assigned reading or search for inspiration on [https://stackoverflow.com](https://stackoverflow.com).\n",
    "- **Each problem is worth 1 point**. All problems are equally weighted.\n",
    "- **The information you need for each problem set is provided in the blue and green cells.** General instructions / the problem set preamble are in the blue cells, and instructions for specific problems are in the green cells. **You have to execute all of the code in the problem set, but you are only responsible for entering code into the code cells that immediately follow a green cell**. You will also recognize those cells because they will be incomplete. You need to replace each blank `▰▰#▰▰` with the code that will make the cell execute properly (where # is a sequentially-increasing integer, one for each blank).\n",
    "- Most modules will contain at least one question that requires you to load data from disk; **it is up to you to locate the data, place it in an appropriate directory on your local machine, and replace any instances of the `PATH_TO_DATA` variable with a path to the directory containing the relevant data**.\n",
    "- **The comments in the problem cells contain clues indicating what the following line of code is supposed to do.** Use these comments as a guide when filling in the blanks. \n",
    "- **You can ask for help**. \n",
    "\n",
    "Finally, remember that you do not need to \"master\" this content before moving on to other course materials, as what is introduced here is reinforced throughout the rest of the course. You will have plenty of time to practice and cement your new knowledge and skills.\n",
    "<div class='alert alert-block alert-danger'>As you complete this assignment, you may encounter variables that can be assigned a wide variety of different names. Rather than forcing you to employ a particular convention, we leave the naming of these variables up to you. During the quiz, submit an answer of 'USER_DEFINED' (without the quotation marks) to fill in any blank that you assigned an arbitrary name to. In most circumstances, this will occur due to the presence of a local iterator in a for-loop.</b></div>"
   ]
  },
  {
   "cell_type": "markdown",
   "metadata": {},
   "source": [
    "## Package Imports"
   ]
  },
  {
   "cell_type": "code",
   "execution_count": null,
   "metadata": {},
   "outputs": [],
   "source": []
  },
  {
   "cell_type": "markdown",
   "metadata": {},
   "source": [
    "## Problem 1:\n",
    "<div class='alert alert-block alert-success'>\n",
    "The cell below contains partially complete code to read a text file into memory. Replace each blank in the code block to successfully read in the file and print the contents to screen.\n",
    "</div>"
   ]
  },
  {
   "cell_type": "code",
   "execution_count": null,
   "metadata": {},
   "outputs": [],
   "source": [
    "# Replace PATH_TO_DATA with the path to where you stored your data, then load the countries:\n",
    "with open(PATH_TO_DATA/'countries.txt', 'r', encoding='utf-8') as file:\n",
    "    countries = [country.strip('\\n') for country in file]\n",
    "\n",
    "# Print the resulting list of countries\n",
    "▰▰1▰▰(countries)"
   ]
  },
  {
   "cell_type": "markdown",
   "metadata": {},
   "source": [
    "## Problem 2:\n",
    "\n",
    "<div class='alert alert-block alert-success'>\n",
    "The cell below iterates over each country name in our list using a for loop and appends an all caps version of the country name to a new list. Complete the code cell below to rewrite the for loop using list comprehension and then confirm that the two lists are identical.\n",
    "</div>"
   ]
  },
  {
   "cell_type": "code",
   "execution_count": null,
   "metadata": {},
   "outputs": [],
   "source": [
    "upper_fr = []  # an empty list to contain the results of our for loop\n",
    "\n",
    "for country in countries:\n",
    "    upper_fr.append(country.upper())\n",
    "\n",
    "upper_lc = [▰▰1▰▰.upper() for ▰▰2▰▰ in ▰▰3▰▰]\n",
    "\n",
    "# confirm they are the same\n",
    "upper_fr == upper_lc"
   ]
  },
  {
   "cell_type": "markdown",
   "metadata": {},
   "source": [
    "## Problem 3:\n",
    "\n",
    "<div class='alert alert-block alert-success'>\n",
    "The cell below iterates over the list of countries and creates a new list containing the number of characters in each country name. Complete the code to translate this list comprehension into a for loop and confirm that the results are identical.\n",
    "</div>"
   ]
  },
  {
   "cell_type": "code",
   "execution_count": null,
   "metadata": {},
   "outputs": [],
   "source": [
    "len_lc = [len(c) for c in countries]  # list comprehension\n",
    "\n",
    "# for loop\n",
    "len_fr = []\n",
    "for ▰▰1▰▰ in ▰▰2▰▰:\n",
    "    ▰▰3▰▰.append(len(▰▰4▰▰))\n",
    "\n",
    "len_lc == len_fr"
   ]
  },
  {
   "cell_type": "markdown",
   "metadata": {},
   "source": [
    "## Problem 4:\n",
    "\n",
    "<div class='alert alert-block alert-success'>\n",
    "The cell below reads the content of a second text file containing the abbreviated names for each of the countries in the initial list. It then uses the zip() function to associate the information in both lists based on index positions, and adds the information to a dictionary where the key is the abbreviated name and the value is the full name. Complete the code cell.\n",
    "</div>"
   ]
  },
  {
   "cell_type": "code",
   "execution_count": null,
   "metadata": {},
   "outputs": [],
   "source": [
    "with open(PATH_TO_DATA/'cids.txt', 'r', encoding='utf-8') as f:\n",
    "    cids = [line.strip('\\n') for line in f]\n",
    "    \n",
    "names_and_ids = {}    \n",
    "\n",
    "for ▰▰1▰▰ in zip(▰▰2▰▰, ▰▰3▰▰):\n",
    "    names_and_ids[▰▰4▰▰[0]] = ▰▰5▰▰[1]\n",
    "\n",
    "names_and_ids"
   ]
  },
  {
   "cell_type": "markdown",
   "metadata": {},
   "source": [
    "## Problem 5:\n",
    "\n",
    "<div class='alert alert-block alert-success'>\n",
    "The code below reads a Python dictionary into memory using a package called pickle. The keys in this dictionary are country names, and the values are lists containing the following three pieces of information:<br>\n",
    "<ol>\n",
    "<li>The three letter abbreviation of the country name\n",
    "<li>A core civil society index (CCSI) constructed from a number of low-level indicators, including the extent to which major civil society organizations (CSOs) are consulted by policymakers; how large the involvement of people in CSOs is; whether women are prevented from participating; and whether legislative candidate nomination within party organization is highly decentralized or made through party primaries? The index values range from 0 to 1.\n",
    "<li>A free association index that measures the extent to which parties, including opposition parties, allowed to form and to participate in elections, and the extent to which civil society organizations are able to form and to operate freely. Values range from 0 to 1.\n",
    "</ol> \n",
    "In the code block below, print the CCSI (Core Civil Society Index) for Brazil (in 2019).\n",
    "</div>"
   ]
  },
  {
   "cell_type": "code",
   "execution_count": null,
   "metadata": {},
   "outputs": [],
   "source": [
    "import pickle\n",
    "with open(PATH_TO_DATA/'country_dicts.pkl', 'rb') as f:\n",
    "    country_data = pickle.load(f)\n",
    "\n",
    "brazil = country_data[▰▰1▰▰][▰▰2▰▰]\n",
    "print(f'{brazil}')"
   ]
  },
  {
   "cell_type": "markdown",
   "metadata": {},
   "source": [
    "## Problem 6:\n",
    "\n",
    "<div class='alert alert-block alert-success'>\n",
    "The cell below (once completed) defines a function that accepts the names of two countries, retrieves their CCSI values from the country_data dict, and then returns the name and CCSI for the country with the higher value in a formatted string. Use the function to compare Japan and South Korea. Complete the cell.\n",
    "</div>"
   ]
  },
  {
   "cell_type": "code",
   "execution_count": null,
   "metadata": {},
   "outputs": [],
   "source": [
    "def compare_countries(country_a, country_b, country_data):\n",
    "    if country_data[country_a][▰▰1▰▰] > country_data[▰▰2▰▰][▰▰3▰▰]:\n",
    "        print(f'{▰▰4▰▰} ({country_data[▰▰5▰▰][1]})')\n",
    "    else:\n",
    "        return f'{country_b} ({country_data[country_b][1]}) had the higher CCSI value in 2019.'\n",
    "\n",
    "# country_data\n",
    "compare_countries('Japan', 'South Korea', country_data)"
   ]
  },
  {
   "cell_type": "markdown",
   "metadata": {},
   "source": [
    "## Problem 7:\n",
    "\n",
    "<div class='alert alert-block alert-success'>\n",
    "The cell below defines a function that accepts two country names as arguments, gets their CCSI values (Core Civil Society Index) from our country_data dict, and then returns to the difference between the two countries by subtracting the CCSI of the second country from the CCSI of the first. Use the function to compare the CCSI values for Canada and Argentina. Complete the cell.\n",
    "</div>"
   ]
  },
  {
   "cell_type": "code",
   "execution_count": null,
   "metadata": {},
   "outputs": [],
   "source": [
    "def compare_ccsi(▰▰1▰▰, country_b, country_data):\n",
    "    diff = country_data[country_a][▰▰2▰▰] - country_data[country_b][▰▰3▰▰]\n",
    "    return diff\n",
    "\n",
    "compare_ccsi('Canada', ▰▰4▰▰, ▰▰5▰▰)"
   ]
  },
  {
   "cell_type": "markdown",
   "metadata": {},
   "source": [
    "## Problem 8:\n",
    "\n",
    "<div class='alert alert-block alert-success'>\n",
    "The cell below defines a function that accepts a list of country names (well, actually any string) as an argument. It iterates over each country in the list and retrieves the three letter country abbreviation from the list of dictionaries we just used. It outputs a list of tuples, where the first element of the tuple is the country name and the second is the abbreviated name. The function uses a bit of try / except logic to handle potential errors (e.g. encountering a string that doesn't match any of the keys in the country dictionaries). Complete the cell.\n",
    "</div>"
   ]
  },
  {
   "cell_type": "code",
   "execution_count": null,
   "metadata": {},
   "outputs": [],
   "source": [
    "def reorganize_data(list_of_countries, country_data):\n",
    "    results = []\n",
    "    problems = []\n",
    "    for ▰▰1▰▰ in list_of_countries:\n",
    "        try:\n",
    "            restructured = tuple([country, ▰▰2▰▰[country][0]])\n",
    "            results.append(▰▰3▰▰)\n",
    "        except:\n",
    "            ▰▰4▰▰.append(country)\n",
    "            \n",
    "    return results, problems\n",
    "\n",
    "reorganized, problems = reorganize_data(['Canada', 'Brazil', 'Norway', 'Brazanada'], country_data)\n",
    "print(f'Sucessfully reorganized: {[country[▰▰5▰▰] for country in reorganized]}')\n",
    "print(f'I have never heard of: {[country ▰▰6▰▰ country in problems]}')"
   ]
  },
  {
   "cell_type": "markdown",
   "metadata": {},
   "source": [
    "## Problem 9:\n",
    "\n",
    "<div class='alert alert-block alert-success'>\n",
    "The file sanders_oped.txt contains the text of an op-ed that Bernie Sanders published in The Guardian on Wednesday January 20th, 2021, the day that Joe Biden and Kamala Harris were sworn in as President and Vice-President of the United States. The code cell below reads in the text file, strips out line breaks ('\\n'), and ignores lines that don't contain any text. Complete the missing code in the function get_sentences(), which attempts to convert the lists of paragraphs to a list of individual sentences by splitting on periods.\n",
    "</div>"
   ]
  },
  {
   "cell_type": "code",
   "execution_count": null,
   "metadata": {},
   "outputs": [],
   "source": [
    "with open(PATH_TO_DATA/'sanders_oped.txt', 'r', encoding='utf-8') as file:\n",
    "    oped = [line.strip('\\n') for line in file if len(line) > 1]\n",
    "\n",
    "\n",
    "def get_sentences(text):\n",
    "    results = []\n",
    "    for paragraph in text:\n",
    "        sentences = ▰▰1▰▰.split('.')\n",
    "        for ▰▰2▰▰ in sentences:\n",
    "            if len(▰▰3▰▰) > 1:\n",
    "                results.append(▰▰4▰▰)\n",
    "    return results\n",
    "\n",
    "\n",
    "sentences = get_sentences(oped)\n",
    "sentences"
   ]
  },
  {
   "cell_type": "markdown",
   "metadata": {},
   "source": [
    "## Problem 10:\n",
    "\n",
    "<div class='alert alert-block alert-success'>\n",
    "Complete the function below, which will accept a list of strings and return a new list containing the length of each string (i.e. the number of words in the string). Count the number of words in each sentence of Sander's oped by passing the oped list of strings to your new function and then confirm that the list of numbers and the list of strings are the same length.\n",
    "</div>"
   ]
  },
  {
   "cell_type": "code",
   "execution_count": null,
   "metadata": {},
   "outputs": [],
   "source": [
    "\n",
    "def senlens(oped):\n",
    "    result = [▰▰1▰▰(sentence) ▰▰2▰▰ sentence ▰▰3▰▰ oped]\n",
    "    return ▰▰4▰▰\n",
    "\n",
    "lens = ▰▰5▰▰(oped)\n",
    "print(lens)\n",
    "len(lens) == len(oped)"
   ]
  },
  {
   "cell_type": "markdown",
   "metadata": {},
   "source": [
    "## Problem 11:\n",
    "\n",
    "<div class='alert alert-block alert-success'>\n",
    "The cell below contains a for loop that iterates over the sentences in Sander's oped and creates two new lists: one for sentences that contain the word \"Republican,\" the other for sentences that contain the word \"Democrat.\" Complete the code and then print the lengths of each.\n",
    "</div>"
   ]
  },
  {
   "cell_type": "code",
   "execution_count": null,
   "metadata": {},
   "outputs": [],
   "source": [
    "democrat = []\n",
    "republican = []\n",
    "\n",
    "\n",
    "for sentence in sentences:\n",
    "    if \"Democrat\" in ▰▰1▰▰:\n",
    "        ▰▰2▰▰.append(sentence)\n",
    "    if \"Republican\" in sentence:\n",
    "        ▰▰3▰▰.append(sentence)\n",
    "\n",
    "print(f'{len(▰▰4▰▰)} sentence(s) contain(s) the word Democrat and {len(▰▰5▰▰)} sentence(s) contain(s) the word Republican.')"
   ]
  },
  {
   "cell_type": "markdown",
   "metadata": {},
   "source": [
    "## Problem 12:\n",
    "\n",
    "<div class='alert alert-block alert-success'>\n",
    "The cell below iterates over the sentences in Sanders' oped and prints the sentence to screen if it contains a word of interest. Complete the code cell so that it searches for the word 'need'.\n",
    "</div>"
   ]
  },
  {
   "cell_type": "code",
   "execution_count": null,
   "metadata": {},
   "outputs": [],
   "source": [
    "search = 'need'\n",
    "\n",
    "▰▰1▰▰ sentence ▰▰2▰▰ sentences:\n",
    "    ▰▰3▰▰ search ▰▰4▰▰ sentence:\n",
    "        print(sentence)"
   ]
  }
 ],
 "metadata": {
  "kernelspec": {
   "display_name": "Python 3 (ipykernel)",
   "language": "python",
   "name": "python3"
  },
  "language_info": {
   "codemirror_mode": {
    "name": "ipython",
    "version": 3
   },
   "file_extension": ".py",
   "mimetype": "text/x-python",
   "name": "python",
   "nbconvert_exporter": "python",
   "pygments_lexer": "ipython3",
   "version": "3.9.13"
  },
  "metadata": {
   "kernelspec": {
    "display_name": "Python 3",
    "language": "python",
    "name": "python3"
   },
   "language_info": {
    "codemirror_mode": {
     "name": "ipython",
     "version": 3
    },
    "file_extension": ".py",
    "mimetype": "text/x-python",
    "name": "python",
    "nbconvert_exporter": "python",
    "pygments_lexer": "ipython3",
    "version": "3.8.5"
   },
   "toc": {
    "base_numbering": 1,
    "nav_menu": {},
    "number_sections": false,
    "sideBar": true,
    "skip_h1_title": false,
    "title_cell": "Table of Contents",
    "title_sidebar": "Contents",
    "toc_cell": false,
    "toc_position": {},
    "toc_section_display": true,
    "toc_window_display": false
   },
   "varInspector": {
    "cols": {
     "lenName": 16,
     "lenType": 16,
     "lenVar": 40
    },
    "kernels_config": {
     "python": {
      "delete_cmd_postfix": "",
      "delete_cmd_prefix": "del ",
      "library": "var_list.py",
      "varRefreshCmd": "print(var_dic_list())"
     },
     "r": {
      "delete_cmd_postfix": ") ",
      "delete_cmd_prefix": "rm(",
      "library": "var_list.r",
      "varRefreshCmd": "cat(var_dic_list()) "
     }
    },
    "types_to_exclude": [
     "module",
     "function",
     "builtin_function_or_method",
     "instance",
     "_Feature"
    ],
    "window_display": false
   }
  }
 },
 "nbformat": 4,
 "nbformat_minor": 4
}
