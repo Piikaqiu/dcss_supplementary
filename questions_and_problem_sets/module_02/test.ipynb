{
 "cells": [
  {
   "cell_type": "markdown",
   "metadata": {},
   "source": [
    "<br><br><font color=\"gray\">DOING COMPUTATIONAL SOCIAL SCIENCE<br>MODULE 2 <strong>PROBLEM SETS</strong></font>\n",
    "\n",
    "# <font color=\"#49699E\" size=40>MODULE 2 </font>\n",
    "\n",
    "\n",
    "# What You Need to Know Before Getting Started\n",
    "\n",
    "- **Every notebook assignment has an accompanying quiz**. Your work in each notebook assignment will serve as the basis for your quiz answers.\n",
    "- **You can consult any resources you want when completing these exercises and problems**. Just as it is in the \"real world:\" if you can't figure out how to do something, look it up. My recommendation is that you check the relevant parts of the assigned reading or search for inspiration on [https://stackoverflow.com](https://stackoverflow.com).\n",
    "- **Each problem is worth 1 point**. All problems are equally weighted.\n",
    "- **The information you need for each problem set is provided in the blue and green cells.** General instructions / the problem set preamble are in the blue cells, and instructions for specific problems are in the green cells. **You have to execute all of the code in the problem set, but you are only responsible for entering code into the code cells that immediately follow a green cell**. You will also recognize those cells because they will be incomplete. You need to replace each blank `▰▰#▰▰` with the code that will make the cell execute properly (where # is a sequentially-increasing integer, one for each blank).\n",
    "- Most modules will contain at least one question that requires you to load data from disk; **it is up to you to locate the data, place it in an appropriate directory on your local machine, and replace any instances of the `PATH_TO_DATA` variable with a path to the directory containing the relevant data**.\n",
    "- **The comments in the problem cells contain clues indicating what the following line of code is supposed to do.** Use these comments as a guide when filling in the blanks. \n",
    "- **You can ask for help**. \n",
    "\n",
    "Finally, remember that you do not need to \"master\" this content before moving on to other course materials, as what is introduced here is reinforced throughout the rest of the course. You will have plenty of time to practice and cement your new knowledge and skills.\n",
    "<div class='alert alert-block alert-danger'>As you complete this assignment, you may encounter variables that can be assigned a wide variety of different names. Rather than forcing you to employ a particular convention, we leave the naming of these variables up to you. During the quiz, submit an answer of 'USER_DEFINED' (without the quotation marks) to fill in any blank that you assigned an arbitrary name to. In most circumstances, this will occur due to the presence of a local iterator in a for-loop.</b></div>"
   ]
  },
  {
   "cell_type": "markdown",
   "metadata": {},
   "source": [
    "## Package Imports"
   ]
  },
  {
   "cell_type": "code",
   "execution_count": 22,
   "metadata": {},
   "outputs": [
    {
     "ename": "NameError",
     "evalue": "name 'wd' is not defined",
     "output_type": "error",
     "traceback": [
      "\u001b[1;31m---------------------------------------------------------------------------\u001b[0m",
      "\u001b[1;31mNameError\u001b[0m                                 Traceback (most recent call last)",
      "\u001b[1;32m~\\AppData\\Local\\Temp\\ipykernel_14904\\1419614900.py\u001b[0m in \u001b[0;36m<module>\u001b[1;34m\u001b[0m\n\u001b[1;32m----> 1\u001b[1;33m \u001b[0mwd\u001b[0m\u001b[1;33m\u001b[0m\u001b[1;33m\u001b[0m\u001b[0m\n\u001b[0m",
      "\u001b[1;31mNameError\u001b[0m: name 'wd' is not defined"
     ]
    }
   ],
   "source": []
  },
  {
   "cell_type": "markdown",
   "metadata": {},
   "source": [
    "## Problem 1:\n",
    "<div class='alert alert-block alert-success'>\n",
    "The cell below contains partially complete code to read a text file into memory. Replace each blank in the code block to successfully read in the file and print the contents to screen.\n",
    "</div>"
   ]
  },
  {
   "cell_type": "code",
   "execution_count": 23,
   "metadata": {},
   "outputs": [
    {
     "name": "stdout",
     "output_type": "stream",
     "text": [
      "['Afghanistan', 'Albania', 'Argentina', 'Australia', 'Bangladesh', 'Benin', 'Bhutan', 'Bolivia', 'Botswana', 'Brazil', 'Burkina Faso', 'Burma/Myanmar', 'Burundi', 'Cambodia', 'Canada', 'Cape Verde', 'Central African Republic', 'Chile', 'Colombia', 'Costa Rica', 'Ecuador', 'Egypt', 'El Salvador', 'Ethiopia', 'France', 'Germany', 'Ghana', 'Guatemala', 'Guinea', 'Haiti', 'Honduras', 'India', 'Indonesia', 'Ivory Coast', 'Japan', 'Kenya', 'Kosovo', 'Lebanon', 'Mali', 'Mauritania', 'Mexico', 'Mozambique', 'Nepal', 'Nicaragua', 'Niger', 'Nigeria', 'North Korea', 'Pakistan', 'Peru', 'Philippines', 'Poland', 'Portugal', 'Russia', 'Senegal', 'South Africa', 'South Korea', 'South Sudan', 'Sudan', 'Suriname', 'Sweden', 'Switzerland', 'Taiwan', 'Tanzania', 'Thailand', 'Timor-Leste', 'Uganda', 'United States of America', 'Venezuela', 'Vietnam', 'Yemen', 'Zambia', 'Zimbabwe']\n"
     ]
    }
   ],
   "source": [
    "# Replace PATH_TO_DATA with the path to where you stored your data, then load the countries:\n",
    "with open(\"questions_and_problem_sets/module_02/data/countries.txt\", 'r', encoding='utf-8') as file:\n",
    "    countries = [country.strip('\\n') for country in file]\n",
    "\n",
    "# Print the resulting list of countries\n",
    "print(countries)"
   ]
  },
  {
   "cell_type": "markdown",
   "metadata": {},
   "source": [
    "## Problem 2:\n",
    "\n",
    "<div class='alert alert-block alert-success'>\n",
    "The cell below iterates over each country name in our list using a for loop and appends an all caps version of the country name to a new list. Complete the code cell below to rewrite the for loop using list comprehension and then confirm that the two lists are identical.\n",
    "</div>"
   ]
  },
  {
   "cell_type": "code",
   "execution_count": 28,
   "metadata": {},
   "outputs": [
    {
     "data": {
      "text/plain": [
       "True"
      ]
     },
     "execution_count": 28,
     "metadata": {},
     "output_type": "execute_result"
    }
   ],
   "source": [
    "upper_fr = []  # an empty list to contain the results of our for loop\n",
    "\n",
    "for country in countries:\n",
    "    upper_fr.append(country.upper())\n",
    "\n",
    "upper_lc = [USER_DEFINED.upper() for USER_DEFINED in countries]\n",
    "\n",
    "# confirm they are the same\n",
    "upper_fr == upper_lc"
   ]
  },
  {
   "cell_type": "markdown",
   "metadata": {},
   "source": [
    "## Problem 3:\n",
    "\n",
    "<div class='alert alert-block alert-success'>\n",
    "The cell below iterates over the list of countries and creates a new list containing the number of characters in each country name. Complete the code to translate this list comprehension into a for loop and confirm that the results are identical.\n",
    "</div>"
   ]
  },
  {
   "cell_type": "code",
   "execution_count": 30,
   "metadata": {},
   "outputs": [
    {
     "data": {
      "text/plain": [
       "True"
      ]
     },
     "execution_count": 30,
     "metadata": {},
     "output_type": "execute_result"
    }
   ],
   "source": [
    "len_lc = [len(c) for c in countries]  # list comprehension\n",
    "\n",
    "# for loop\n",
    "len_fr = []\n",
    "for USER_DEFINED in countries:\n",
    "    len_fr.append(len(USER_DEFINED))\n",
    "\n",
    "len_lc == len_fr"
   ]
  },
  {
   "cell_type": "markdown",
   "metadata": {},
   "source": [
    "## Problem 4:\n",
    "\n",
    "<div class='alert alert-block alert-success'>\n",
    "The cell below reads the content of a second text file containing the abbreviated names for each of the countries in the initial list. It then uses the zip() function to associate the information in both lists based on index positions, and adds the information to a dictionary where the key is the abbreviated name and the value is the full name. Complete the code cell.\n",
    "</div>"
   ]
  },
  {
   "cell_type": "code",
   "execution_count": 53,
   "metadata": {},
   "outputs": [
    {
     "data": {
      "text/plain": [
       "{'AFG': 'Afghanistan',\n",
       " 'ALB': 'Albania',\n",
       " 'ARG': 'Argentina',\n",
       " 'AUS': 'Australia',\n",
       " 'BGD': 'Bangladesh',\n",
       " 'BEN': 'Benin',\n",
       " 'BTN': 'Bhutan',\n",
       " 'BOL': 'Bolivia',\n",
       " 'BWA': 'Botswana',\n",
       " 'BRA': 'Brazil',\n",
       " 'BFA': 'Burkina Faso',\n",
       " 'MMR': 'Burma/Myanmar',\n",
       " 'BDI': 'Burundi',\n",
       " 'KHM': 'Cambodia',\n",
       " 'CAN': 'Canada',\n",
       " 'CPV': 'Cape Verde',\n",
       " 'CAF': 'Central African Republic',\n",
       " 'CHL': 'Chile',\n",
       " 'COL': 'Colombia',\n",
       " 'CRI': 'Costa Rica',\n",
       " 'ECU': 'Ecuador',\n",
       " 'EGY': 'Egypt',\n",
       " 'SLV': 'El Salvador',\n",
       " 'ETH': 'Ethiopia',\n",
       " 'FRA': 'France',\n",
       " 'DEU': 'Germany',\n",
       " 'GHA': 'Ghana',\n",
       " 'GTM': 'Guatemala',\n",
       " 'GIN': 'Guinea',\n",
       " 'HTI': 'Haiti',\n",
       " 'HND': 'Honduras',\n",
       " 'IND': 'India',\n",
       " 'IDN': 'Indonesia',\n",
       " 'CIV': 'Ivory Coast',\n",
       " 'JPN': 'Japan',\n",
       " 'KEN': 'Kenya',\n",
       " 'XKX': 'Kosovo',\n",
       " 'LBN': 'Lebanon',\n",
       " 'MLI': 'Mali',\n",
       " 'MRT': 'Mauritania',\n",
       " 'MEX': 'Mexico',\n",
       " 'MOZ': 'Mozambique',\n",
       " 'NPL': 'Nepal',\n",
       " 'NIC': 'Nicaragua',\n",
       " 'NER': 'Niger',\n",
       " 'NGA': 'Nigeria',\n",
       " 'PRK': 'North Korea',\n",
       " 'PAK': 'Pakistan',\n",
       " 'PER': 'Peru',\n",
       " 'PHL': 'Philippines',\n",
       " 'POL': 'Poland',\n",
       " 'PRT': 'Portugal',\n",
       " 'RUS': 'Russia',\n",
       " 'SEN': 'Senegal',\n",
       " 'ZAF': 'South Africa',\n",
       " 'KOR': 'South Korea',\n",
       " 'SSD': 'South Sudan',\n",
       " 'SDN': 'Sudan',\n",
       " 'SUR': 'Suriname',\n",
       " 'SWE': 'Sweden',\n",
       " 'CHE': 'Switzerland',\n",
       " 'TWN': 'Taiwan',\n",
       " 'TZA': 'Tanzania',\n",
       " 'THA': 'Thailand',\n",
       " 'TLS': 'Timor-Leste',\n",
       " 'UGA': 'Uganda',\n",
       " 'USA': 'United States of America',\n",
       " 'VEN': 'Venezuela',\n",
       " 'VNM': 'Vietnam',\n",
       " 'YEM': 'Yemen',\n",
       " 'ZMB': 'Zambia',\n",
       " 'ZWE': 'Zimbabwe'}"
      ]
     },
     "execution_count": 53,
     "metadata": {},
     "output_type": "execute_result"
    }
   ],
   "source": [
    "with open(\"questions_and_problem_sets/module_02/data/cids.txt\", 'r', encoding='utf-8') as f:\n",
    "    cids = [line.strip('\\n') for line in f]\n",
    "    \n",
    "names_and_ids = {}    \n",
    "\n",
    "for USER_DEFINED in zip(cids, countries):\n",
    "    names_and_ids[USER_DEFINED[0]] = USER_DEFINED[1]\n",
    "\n",
    "names_and_ids"
   ]
  },
  {
   "cell_type": "markdown",
   "metadata": {},
   "source": [
    "## Problem 5:\n",
    "\n",
    "<div class='alert alert-block alert-success'>\n",
    "The code below reads a Python dictionary into memory using a package called pickle. The keys in this dictionary are country names, and the values are lists containing the following three pieces of information:<br>\n",
    "<ol>\n",
    "<li>The three letter abbreviation of the country name\n",
    "<li>A core civil society index (CCSI) constructed from a number of low-level indicators, including the extent to which major civil society organizations (CSOs) are consulted by policymakers; how large the involvement of people in CSOs is; whether women are prevented from participating; and whether legislative candidate nomination within party organization is highly decentralized or made through party primaries? The index values range from 0 to 1.\n",
    "<li>A free association index that measures the extent to which parties, including opposition parties, allowed to form and to participate in elections, and the extent to which civil society organizations are able to form and to operate freely. Values range from 0 to 1.\n",
    "</ol> \n",
    "In the code block below, print the CCSI (Core Civil Society Index) for Brazil (in 2019).\n",
    "</div>"
   ]
  },
  {
   "cell_type": "code",
   "execution_count": 67,
   "metadata": {},
   "outputs": [
    {
     "name": "stdout",
     "output_type": "stream",
     "text": [
      "0.713\n"
     ]
    }
   ],
   "source": [
    "import pickle\n",
    "with open(\"questions_and_problem_sets/module_02/data/country_dicts.pkl\", 'rb') as f:\n",
    "    country_data = pickle.load(f)\n",
    "\n",
    "brazil = country_data['Brazil'][1]\n",
    "print(f'{brazil}')"
   ]
  },
  {
   "cell_type": "markdown",
   "metadata": {},
   "source": [
    "## Problem 6:\n",
    "\n",
    "<div class='alert alert-block alert-success'>\n",
    "The cell below (once completed) defines a function that accepts the names of two countries, retrieves their CCSI values from the country_data dict, and then returns the name and CCSI for the country with the higher value in a formatted string. Use the function to compare Japan and South Korea. Complete the cell.\n",
    "</div>"
   ]
  },
  {
   "cell_type": "code",
   "execution_count": 70,
   "metadata": {},
   "outputs": [
    {
     "data": {
      "text/plain": [
       "'South Korea (0.8240000000000001) had the higher CCSI value in 2019.'"
      ]
     },
     "execution_count": 70,
     "metadata": {},
     "output_type": "execute_result"
    }
   ],
   "source": [
    "def compare_countries(country_a, country_b, country_data):\n",
    "    if country_data[country_a][1] > country_data[country_b][1]:\n",
    "        print(f'{country_a} ({country_data[country_a][1]})')\n",
    "    else:\n",
    "        return f'{country_b} ({country_data[country_b][1]}) had the higher CCSI value in 2019.'\n",
    "\n",
    "# country_data\n",
    "compare_countries('Japan', 'South Korea', country_data)"
   ]
  },
  {
   "cell_type": "markdown",
   "metadata": {},
   "source": [
    "## Problem 7:\n",
    "\n",
    "<div class='alert alert-block alert-success'>\n",
    "The cell below defines a function that accepts two country names as arguments, gets their CCSI values (Core Civil Society Index) from our country_data dict, and then returns to the difference between the two countries by subtracting the CCSI of the second country from the CCSI of the first. Use the function to compare the CCSI values for Canada and Argentina. Complete the cell.\n",
    "</div>"
   ]
  },
  {
   "cell_type": "code",
   "execution_count": 71,
   "metadata": {},
   "outputs": [
    {
     "data": {
      "text/plain": [
       "0.1469999999999999"
      ]
     },
     "execution_count": 71,
     "metadata": {},
     "output_type": "execute_result"
    }
   ],
   "source": [
    "def compare_ccsi(country_a, country_b, country_data):\n",
    "    diff = country_data[country_a][1] - country_data[country_b][1]\n",
    "    return diff\n",
    "\n",
    "compare_ccsi('Canada', 'Argentina', country_data)"
   ]
  },
  {
   "cell_type": "markdown",
   "metadata": {},
   "source": [
    "## Problem 8:\n",
    "\n",
    "<div class='alert alert-block alert-success'>\n",
    "The cell below defines a function that accepts a list of country names (well, actually any string) as an argument. It iterates over each country in the list and retrieves the three letter country abbreviation from the list of dictionaries we just used. It outputs a list of tuples, where the first element of the tuple is the country name and the second is the abbreviated name. The function uses a bit of try / except logic to handle potential errors (e.g. encountering a string that doesn't match any of the keys in the country dictionaries). Complete the cell.\n",
    "</div>"
   ]
  },
  {
   "cell_type": "code",
   "execution_count": 79,
   "metadata": {},
   "outputs": [
    {
     "name": "stdout",
     "output_type": "stream",
     "text": [
      "Sucessfully reorganized: ['Canada', 'Brazil']\n",
      "I have never heard of: ['Norway', 'Brazanada']\n"
     ]
    }
   ],
   "source": [
    "def reorganize_data(list_of_countries, country_data):\n",
    "    results = []\n",
    "    problems = []\n",
    "    for country in list_of_countries:\n",
    "        try:\n",
    "            restructured = tuple([country, country_data[country][0]])\n",
    "            results.append(restructured)\n",
    "        except:\n",
    "            problems.append(country)\n",
    "            \n",
    "    return results, problems\n",
    "\n",
    "reorganized, problems = reorganize_data(['Canada', 'Brazil', 'Norway', 'Brazanada'], country_data)\n",
    "print(f'Sucessfully reorganized: {[country[0] for country in reorganized]}')\n",
    "print(f'I have never heard of: {[country for country in problems]}')"
   ]
  },
  {
   "cell_type": "markdown",
   "metadata": {},
   "source": [
    "## Problem 9:\n",
    "\n",
    "<div class='alert alert-block alert-success'>\n",
    "The file sanders_oped.txt contains the text of an op-ed that Bernie Sanders published in The Guardian on Wednesday January 20th, 2021, the day that Joe Biden and Kamala Harris were sworn in as President and Vice-President of the United States. The code cell below reads in the text file, strips out line breaks ('\\n'), and ignores lines that don't contain any text. Complete the missing code in the function get_sentences(), which attempts to convert the lists of paragraphs to a list of individual sentences by splitting on periods.\n",
    "</div>"
   ]
  },
  {
   "cell_type": "code",
   "execution_count": 92,
   "metadata": {},
   "outputs": [
    {
     "data": {
      "text/plain": [
       "['https://www',\n",
       " 'theguardian',\n",
       " 'com/commentisfree/2021/jan/20/joe-biden-action-bernie-sanders',\n",
       " 'Joe Biden must put an end to business as usual',\n",
       " \" Here's where to start | Bernie Sanders\",\n",
       " 'Bernie Sanders Wed 20 Jan 2021 11',\n",
       " '16 GMT',\n",
       " 'In this time of unprecedented crises, Congress and the Biden administration must respond through unprecedented action',\n",
       " 'A record-breaking 4,000 Americans are now dying each day from Covid-19, while the federal government fumbles vaccine production and distribution, testing and tracing',\n",
       " ' In the midst of the worst pandemic in 100 years, more than 90 million Americans are uninsured or underinsured and can’t afford to go to a doctor when they get sick',\n",
       " ' The isolation and anxiety caused by the pandemic has resulted in a huge increase in mental illness',\n",
       " 'Over half of American workers are living paycheck to paycheck, including millions of essential workers who put their lives on the line every day',\n",
       " ' More than 24 million Americans are unemployed, underemployed or have given up looking for work, while hunger in this country is at the highest level in decades',\n",
       " 'Because of lack of income, up to 40 million Americans face the threat of eviction, and many owe thousands in back rent',\n",
       " ' This is on top of the 500,000 who are already homeless',\n",
       " 'Meanwhile, the wealthiest people in this country are becoming much richer, and income and wealth inequality are soaring',\n",
       " ' Incredibly, during the pandemic, 650 billionaires in America have increased their wealth by more than $1tn',\n",
       " 'As a result of the pandemic education in this country, from childcare to graduate school, is in chaos',\n",
       " ' The majority of young people in this country have seen their education disrupted and it is likely that hundreds of colleges will soon cease to exist',\n",
       " 'Climate change is ravaging the planet with an unprecedented number of forest fires and extreme weather disturbances',\n",
       " ' Scientists tell us that we have only a very few years before irreparable damage takes place to our country and the world',\n",
       " 'And, in the midst of all this, the foundations of American democracy are under an unprecedented attack',\n",
       " ' We have a president who is working feverishly to undermine American democracy and incite violence against the very government and constitution he swore to defend',\n",
       " ' Against all of the evidence, tens of millions of Americans actually believe Trump’s Big Lie that he won this election by a landslide and that victory was stolen from him and his supporters',\n",
       " ' Armed rightwing militias in support of Trump are being mobilized throughout the country',\n",
       " 'In this moment of unprecedented crises, Congress and the Biden administration must respond through unprecedented action',\n",
       " ' No more business as usual',\n",
       " ' No more same old, same old',\n",
       " 'Democrats, who will now control the White House, the Senate and the House, must summon the courage to demonstrate to the American people that government can effectively and rapidly respond to their pain and anxiety',\n",
       " ' As the incoming chairman of the Senate budget committee that is exactly what I intend to do',\n",
       " 'What does all of this mean for the average American?',\n",
       " 'It means that we aggressively crush the pandemic and enable the American people to return to their jobs and schools',\n",
       " ' This will require a federally led emergency program to produce the quantity of vaccines that we need and get them into people’s arms as quickly as possible',\n",
       " 'It means that during the severe economic downturn we’re experiencing, we must make sure that all Americans have the financial resources they need to live with dignity',\n",
       " ' We must increase the $600 in direct payments for every working-class adult and child that was recently passed to $2,000, raise the minimum wage to $15 an hour, expand unemployment benefits and prevent eviction, homelessness and hunger',\n",
       " 'Despite what you may have heard, there is no reason why we cannot do all of these things',\n",
       " 'It means that, during this raging pandemic, we must guarantee healthcare to all',\n",
       " ' We must also end the international embarrassment of the United States being the only major country on Earth not to provide paid family and medical leave to workers',\n",
       " 'It means making pre-kindergarten and childcare universal and available to every family in America',\n",
       " 'Despite what you may have heard, there is no reason why we cannot do all of these things',\n",
       " ' Through budget reconciliation, a process that only requires a majority vote in the Senate, we can act quickly and pass this emergency legislation',\n",
       " 'But that is not enough',\n",
       " ' This year we must also pass a second reconciliation bill that deals with the major structural changes that our country desperately needs',\n",
       " ' Ultimately, we must confront the grotesque level of income and wealth inequality and create a country that works for all and not just the few',\n",
       " ' Americans should no longer be denied basic economic rights that are guaranteed to people in virtually every other major country',\n",
       " 'This means using a second reconciliation bill to create millions of good-paying jobs rebuilding our crumbling infrastructure and constructing affordable housing, modernizing our schools, combatting climate change and making massive investments in energy efficiency and renewable energy',\n",
       " 'It means making public colleges, universities, trade schools and Historically Black Colleges and Universities tuition-free and forcefully addressing the outrageous level of student debt for working families',\n",
       " 'And it means making the wealthiest Americans and most profitable corporations pay their fair share of taxes',\n",
       " ' We cannot continue to allow profitable corporations like Amazon to make billions of dollars in taxes and pay nothing in net federal income taxes',\n",
       " ' And billionaires cannot be allowed to pay a lower tax rate than working-class Americans',\n",
       " ' We need real tax reform',\n",
       " 'There is no reason Joe Biden could not sign into law two major bills that will accomplish most of the goals I listed above within the first 100 days of the new Congress',\n",
       " ' We cannot allow Mitch McConnell and the Republican leadership to sabotage legislation that would improve the lives of millions of working Americans and is wildly popular',\n",
       " 'Let us never forget',\n",
       " ' When Republicans controlled the Senate, they used the reconciliation process to pass trillions of dollars in tax breaks primarily to the top 1% and multinational corporations',\n",
       " ' Further, they were able to confirm three rightwing US supreme court judges over a very short period of time by a simple majority vote',\n",
       " 'If the Republicans could use the reconciliation process to protect the wealthy and the powerful, we can use it to protect working families, the sick, the elderly, the disabled and the poor',\n",
       " 'Bernie Sanders is a US Senator from Vermont']"
      ]
     },
     "execution_count": 92,
     "metadata": {},
     "output_type": "execute_result"
    }
   ],
   "source": [
    "with open(\"questions_and_problem_sets/module_02/data/sanders_oped.txt\", 'r', encoding='utf-8') as file:\n",
    "    oped = [line.strip('\\n') for line in file if len(line) > 1]\n",
    "\n",
    "\n",
    "def get_sentences(text):\n",
    "    results = []\n",
    "    for paragraph in text:\n",
    "        sentences = paragraph.split('.')\n",
    "        for USER_DEFINED in sentences:\n",
    "            if len(USER_DEFINED) > 1:\n",
    "                results.append(USER_DEFINED)\n",
    "    return results\n",
    "\n",
    "\n",
    "sentences = get_sentences(oped)\n",
    "sentences"
   ]
  },
  {
   "cell_type": "markdown",
   "metadata": {},
   "source": [
    "## Problem 10:\n",
    "\n",
    "<div class='alert alert-block alert-success'>\n",
    "Complete the function below, which will accept a list of strings and return a new list containing the length of each string (i.e. the number of words in the string). Count the number of words in each sentence of Sander's oped by passing the oped list of strings to your new function and then confirm that the list of numbers and the list of strings are the same length.\n",
    "</div>"
   ]
  },
  {
   "cell_type": "code",
   "execution_count": 89,
   "metadata": {},
   "outputs": [
    {
     "name": "stdout",
     "output_type": "stream",
     "text": [
      "[85, 86, 40, 117, 431, 306, 175, 228, 252, 238, 545, 175, 308, 52, 273, 403, 88, 245, 98, 236, 433, 286, 207, 368, 340, 331, 189, 43]\n"
     ]
    },
    {
     "data": {
      "text/plain": [
       "True"
      ]
     },
     "execution_count": 89,
     "metadata": {},
     "output_type": "execute_result"
    }
   ],
   "source": [
    "\n",
    "def senlens(oped):\n",
    "    result = [len(sentence) for sentence in oped]\n",
    "    return result\n",
    "\n",
    "lens = senlens(oped)\n",
    "print(lens)\n",
    "len(lens) == len(oped)"
   ]
  },
  {
   "cell_type": "markdown",
   "metadata": {},
   "source": [
    "## Problem 11:\n",
    "\n",
    "<div class='alert alert-block alert-success'>\n",
    "The cell below contains a for loop that iterates over the sentences in Sander's oped and creates two new lists: one for sentences that contain the word \"Republican,\" the other for sentences that contain the word \"Democrat.\" Complete the code and then print the lengths of each.\n",
    "</div>"
   ]
  },
  {
   "cell_type": "code",
   "execution_count": 90,
   "metadata": {},
   "outputs": [
    {
     "name": "stdout",
     "output_type": "stream",
     "text": [
      "1 sentence(s) contain(s) the word Democrat and 3 sentence(s) contain(s) the word Republican.\n"
     ]
    }
   ],
   "source": [
    "democrat = []\n",
    "republican = []\n",
    "\n",
    "\n",
    "for sentence in sentences:\n",
    "    if \"Democrat\" in sentence:\n",
    "        democrat.append(sentence)\n",
    "    if \"Republican\" in sentence:\n",
    "        republican.append(sentence)\n",
    "\n",
    "print(f'{len(democrat)} sentence(s) contain(s) the word Democrat and {len(republican)} sentence(s) contain(s) the word Republican.')"
   ]
  },
  {
   "cell_type": "markdown",
   "metadata": {},
   "source": [
    "## Problem 12:\n",
    "\n",
    "<div class='alert alert-block alert-success'>\n",
    "The cell below iterates over the sentences in Sanders' oped and prints the sentence to screen if it contains a word of interest. Complete the code cell so that it searches for the word 'need'.\n",
    "</div>"
   ]
  },
  {
   "cell_type": "code",
   "execution_count": 91,
   "metadata": {},
   "outputs": [
    {
     "name": "stdout",
     "output_type": "stream",
     "text": [
      " This will require a federally led emergency program to produce the quantity of vaccines that we need and get them into people’s arms as quickly as possible\n",
      "It means that during the severe economic downturn we’re experiencing, we must make sure that all Americans have the financial resources they need to live with dignity\n",
      " This year we must also pass a second reconciliation bill that deals with the major structural changes that our country desperately needs\n",
      " We need real tax reform\n"
     ]
    }
   ],
   "source": [
    "search = 'need'\n",
    "\n",
    "for sentence in sentences:\n",
    "    if search in sentence:\n",
    "        print(sentence)"
   ]
  },
  {
   "cell_type": "code",
   "execution_count": null,
   "metadata": {},
   "outputs": [],
   "source": []
  }
 ],
 "metadata": {
  "kernelspec": {
   "display_name": "Python 3 (ipykernel)",
   "language": "python",
   "name": "python3"
  },
  "language_info": {
   "codemirror_mode": {
    "name": "ipython",
    "version": 3
   },
   "file_extension": ".py",
   "mimetype": "text/x-python",
   "name": "python",
   "nbconvert_exporter": "python",
   "pygments_lexer": "ipython3",
   "version": "3.9.13"
  },
  "metadata": {
   "kernelspec": {
    "display_name": "Python 3",
    "language": "python",
    "name": "python3"
   },
   "language_info": {
    "codemirror_mode": {
     "name": "ipython",
     "version": 3
    },
    "file_extension": ".py",
    "mimetype": "text/x-python",
    "name": "python",
    "nbconvert_exporter": "python",
    "pygments_lexer": "ipython3",
    "version": "3.8.5"
   },
   "toc": {
    "base_numbering": 1,
    "nav_menu": {},
    "number_sections": false,
    "sideBar": true,
    "skip_h1_title": false,
    "title_cell": "Table of Contents",
    "title_sidebar": "Contents",
    "toc_cell": false,
    "toc_position": {},
    "toc_section_display": true,
    "toc_window_display": false
   },
   "varInspector": {
    "cols": {
     "lenName": 16,
     "lenType": 16,
     "lenVar": 40
    },
    "kernels_config": {
     "python": {
      "delete_cmd_postfix": "",
      "delete_cmd_prefix": "del ",
      "library": "var_list.py",
      "varRefreshCmd": "print(var_dic_list())"
     },
     "r": {
      "delete_cmd_postfix": ") ",
      "delete_cmd_prefix": "rm(",
      "library": "var_list.r",
      "varRefreshCmd": "cat(var_dic_list()) "
     }
    },
    "types_to_exclude": [
     "module",
     "function",
     "builtin_function_or_method",
     "instance",
     "_Feature"
    ],
    "window_display": false
   }
  }
 },
 "nbformat": 4,
 "nbformat_minor": 4
}
